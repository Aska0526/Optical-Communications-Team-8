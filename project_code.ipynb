{
 "cells": [
  {
   "cell_type": "markdown",
   "metadata": {},
   "source": [
    "# Optical Communications Project -- Team 8"
   ]
  },
  {
   "cell_type": "code",
   "execution_count": 1,
   "metadata": {},
   "outputs": [],
   "source": [
    "# fibre specification\n",
    "n1 = 1.46\n",
    "n2 = 1.45\n",
    "lambda_ = 820e-9\n",
    "a = 5.1e-6"
   ]
  },
  {
   "cell_type": "code",
   "execution_count": 2,
   "metadata": {},
   "outputs": [],
   "source": [
    "#import relevant packages\n",
    "import numpy as np\n",
    "import matplotlib.pyplot as plt"
   ]
  },
  {
   "cell_type": "markdown",
   "metadata": {},
   "source": [
    "## 1. Calculate the V-parameter for the fibre."
   ]
  },
  {
   "cell_type": "code",
   "execution_count": 3,
   "metadata": {},
   "outputs": [
    {
     "name": "stdout",
     "output_type": "stream",
     "text": [
      "6.666266729164944\n"
     ]
    }
   ],
   "source": [
    "V = 2*np.pi*a/lambda_*np.sqrt(n1*n1-n2*n2)\n",
    "print(V)"
   ]
  },
  {
   "cell_type": "markdown",
   "metadata": {},
   "source": [
    "## 2. Decide whether you are going to consider the {TE, TM, EH, HE} or LP modes for all of the subsequent tasks.\n"
   ]
  },
  {
   "cell_type": "markdown",
   "metadata": {},
   "source": [
    "## 3. Identify all the modes that the fibre supports and the propagation constant and effective index for each mode. Summarise the results as a table."
   ]
  },
  {
   "cell_type": "code",
   "execution_count": null,
   "metadata": {},
   "outputs": [
   ],
   "source": [
    "\n",
    "def j(pa, m):\n",
    "    u=-ss.jv(m+1, pa)+m*ss.jv(m, pa)/pa\n",
    "    l=pa*ss.jv(m, pa)\n",
    "    return u/l   #first order bessel function terms \n",
    "\n",
    "def k(qa, m):\n",
    "    u=-ss.kn(m+1, qa)+m*ss.kn(m, qa)/qa \n",
    "    l= qa*ss.kn(m, qa)\n",
    "    return u/l #Second order bessel terms\n",
    "\n",
    "def b(pa): #Convert between pa values and Wavenumber \n",
    "    p=pa/a\n",
    "    b=np.sqrt((n1*k0)**2-p**2)\n",
    "    return b\n",
    "\n",
    "def pa(b): #Convert between Wavenumber and pa values\n",
    "    p=np.sqrt((n1*k0)**2-b**2)\n",
    "    return p*a\n",
    "\n",
    "def lhs(b, m): # LHS of quadratic solution\n",
    "    pa=np.sqrt((n1*k0)**2-b**2)*a\n",
    "    qa=np.sqrt(b**2-(n2*k0)**2)*a\n",
    "    t1=(j(pa, m)+k(qa, m))\n",
    "    t2=(j(pa, m)+n2**2*k(qa, m)/n1**2)\n",
    "\n",
    "    return t1*t2\n",
    "\n",
    "def rhs(b, m):# RHS of quadratic solution\n",
    "    pa=np.sqrt((n1*k0)**2-b**2)*a\n",
    "    qa=np.sqrt(b**2-(n2*k0)**2)*a\n",
    "    t1=(1/(pa)**2+1/(qa)**2)\n",
    "    t2=(1/(pa)**2+n2**2/(n1*qa)**2)\n",
    "    return m**2*t1*t2 \n",
    "\n",
    "def f(b):#Optimisation function\n",
    "   return lhs(b, m1)-rhs(b, m1)\n",
    "\n",
    "global m1\n",
    "\n",
    "LHS=[]\n",
    "RHS=[]\n",
    "btest=np.linspace(n2*k0,n1*k0, 10000) #Potential b-values within constraints\n",
    "mi=[0, 1, 2, 3, 4]\n",
    "solfull=[]\n",
    "sys.stderr = DevNull()\n",
    "for m in mi:\n",
    "    m1=m\n",
    "    LHS=[]\n",
    "    RHS=[]\n",
    "    paVals=[]\n",
    "    for b in btest: #Iterate through potential b values\n",
    "        \n",
    "        LHS.append(lhs(b, m))\n",
    "        RHS.append(rhs(b, m))\n",
    "    sol=sp.optimize.root(f, btest[20])\n",
    "    sol3=sp.optimize.root(f, btest[int(len(btest)/2)])\n",
    "    sol2=sp.optimize.root(f, btest[-30])\n",
    "    solutions=list(set([sol.x[0], sol2.x[0], sol3.x[0]]))\n",
    "    for s in solutions:\n",
    "        plt.scatter(s,lhs(s, m), label=\"Intersections\", s=20 )\n",
    "        paVals.append(pa(s))\n",
    "    \n",
    "    solfull.append([solutions, paVals])\n",
    "    plt.plot(btest, RHS, 'k', label=\"RHS\")\n",
    "    plt.plot(btest, LHS, 'b', label=\"LHS\")\n",
    "    plt.ylim(0, 10)\n",
    "    plt.legend()\n",
    "    plt.title(\"Mode order: \"+str(m))\n",
    "    plt.show()\n",
    "    \n",
    "print(solfull )"
   ]
  },
  {
   "cell_type": "markdown",
   "metadata": {},
   "source": [
    "## 4. Excluding the fundamental mode {HE11/LP01}, pick one of the modes from your table for the tasks below.\n"
   ]
  },
  {
   "cell_type": "markdown",
   "metadata": {},
   "source": [
    "## 5. Plot maps in the plane perpendicular to the fibre axis of the amplitude of all three E-fields within the fibre. You will need to fix one of the A or B parameters, e.g. to unity, and use the relevant equations to calculate the other values. You can choose to do this for either the {radial, tangential, z} or {x, y, z} E-field components.\n"
   ]
  },
  {
   "cell_type": "markdown",
   "metadata": {},
   "source": [
    "## 6. Plot the spatial distribution of the total intensity of the mode in the direction perpendicular to the fibre axis, e.g. sum of the square modulus of the field in the {radial, tangential} or {x, y} directions."
   ]
  },
  {
   "cell_type": "markdown",
   "metadata": {},
   "source": [
    "## 7. Calculate numerically the waveguide dispersion $ 𝐷_w = − \\frac{\\lambda}{c} [\\frac{\\partial^2n_{eff}}{\\partial\\lambda^2}]_w = − \\frac{\\lambda}{c} [\\frac{\\partial^2n_{m}}{\\partial\\lambda^2}]_w $ for the mode selected, see notes for lecture 6. For example, calculate this from the effective index calculated for three (or more) wavelengths close to the wavelength of light to be transmitted."
   ]
  },
  {
   "cell_type": "markdown",
   "metadata": {},
   "source": [
    "## 8. Using your result to part 6, calculate the fraction of energy in the core and cladding by summing over the relevant regions. Use equation $𝑛^2_{eff} \\approx 𝑛^2_1\\Gamma(𝑉) + 𝑛^2_2(1 − \\Gamma(𝑉)) $ to calculate an approximate value for the effective index. Compare this value of the effective index to the value you calculated directly and comment on your result."
   ]
  },
  {
   "cell_type": "markdown",
   "metadata": {},
   "source": []
  }
 ],
 "metadata": {
  "kernelspec": {
   "display_name": "Python 3.8.13 ('base')",
   "language": "python",
   "name": "python3"
  },
  "language_info": {
   "codemirror_mode": {
    "name": "ipython",
    "version": 3
   },
   "file_extension": ".py",
   "mimetype": "text/x-python",
   "name": "python",
   "nbconvert_exporter": "python",
   "pygments_lexer": "ipython3",
   "version": "3.8.15"
  },
  "orig_nbformat": 4,
  "vscode": {
   "interpreter": {
    "hash": "b668ce5d7fbf69e7505e622074667affef2db8bf8e5173e88a91dd294fcbf61e"
   }
  }
 },
 "nbformat": 4,
 "nbformat_minor": 2
}
